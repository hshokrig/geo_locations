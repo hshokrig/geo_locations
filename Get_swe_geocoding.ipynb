{
 "cells": [
  {
   "cell_type": "code",
   "execution_count": 1,
   "metadata": {},
   "outputs": [],
   "source": [
    "import pandas as pd\n",
    "import urllib\n",
    "import json\n",
    "import time\n",
    "from tqdm import tqdm\n",
    "\n",
    "\n",
    "def num2postal_code(num):\n",
    "    output = str(num)\n",
    "    while len(output) < 5:\n",
    "        output = '0'+output\n",
    "    return output \n",
    "    \n",
    "df = pd.DataFrame ({'country_code':[], \n",
    "                    'postal_code':[],\n",
    "                    'latitude':[],\n",
    "                    'longitude':[],\n",
    "                    'region_id':[]\n",
    "                   }\n",
    "                  )\n",
    "\n",
    "\n",
    "# Google API Key, You must have at least one API key associated with your project. \n",
    "f = open('apikey.txt', 'r')\n",
    "key = f.readline()\n",
    "f.close()\n"
   ]
  },
  {
   "cell_type": "code",
   "execution_count": 2,
   "metadata": {},
   "outputs": [
    {
     "name": "stderr",
     "output_type": "stream",
     "text": [
      "100%|██████████████████████████████████████████████████████████████████████████████| 5136/5136 [36:38<00:00,  2.62it/s]\n"
     ]
    }
   ],
   "source": [
    "zipcodeList = range(10000)\n",
    "\n",
    "for code in tqdm(zipcodeList):\n",
    "    #if np.mod(code,100)==1:\n",
    "    #    print('progress: code)\n",
    "    zipcode = num2postal_code(code)\n",
    "    url='https://maps.googleapis.com/maps/api/geocode/json?address=' + zipcode + 'Sweden&key=' + key\n",
    "    response = urllib.request.urlopen(url)\n",
    "    data = json.loads(response.read())\n",
    "    if data['status']=='OK' and data['results'][0]['address_components'][-1]['long_name'] == 'Sweden':\n",
    "        s='::'\n",
    "        if len(data['results'][0]['address_components'])==5:\n",
    "            df = df.append(\n",
    "                        {'country_code':data['results'][0]['address_components'][-1]['long_name'], \n",
    "                         'postal_code':zipcode,\n",
    "                         'latitude':data['results'][0]['geometry']['location']['lat'],\n",
    "                         'longitude':data['results'][0]['geometry']['location']['lng'],\n",
    "                         'region_id':s.join((data['results'][0]['address_components'][1]['long_name'], \n",
    "                                         data['results'][0]['address_components'][2]['long_name']))\n",
    "                        }, ignore_index=True)\n",
    "        elif len(data['results'][0]['address_components'])==2:\n",
    "            df = df.append(\n",
    "                        {'country_code':data['results'][0]['address_components'][-1]['long_name'], \n",
    "                         'postal_code':zipcode,\n",
    "                         'latitude':data['results'][0]['geometry']['location']['lat'],\n",
    "                         'longitude':data['results'][0]['geometry']['location']['lng'],\n",
    "                         'region_id':s.join(('Sweden','Sweden'))\n",
    "                        }, ignore_index=True)\n",
    "\n",
    "df_all['country_code'] = 'swe'\n",
    "\n",
    "import pickle\n",
    "with open('swe_geocoding', 'wb') as f:\n",
    "    pickle.dump(df, f)\n",
    "\n",
    "df.to_csv('swe_geocoding.csv') "
   ]
  }
 ],
 "metadata": {
  "kernelspec": {
   "display_name": "Python 3",
   "language": "python",
   "name": "python3"
  },
  "language_info": {
   "codemirror_mode": {
    "name": "ipython",
    "version": 3
   },
   "file_extension": ".py",
   "mimetype": "text/x-python",
   "name": "python",
   "nbconvert_exporter": "python",
   "pygments_lexer": "ipython3",
   "version": "3.7.3"
  }
 },
 "nbformat": 4,
 "nbformat_minor": 2
}
